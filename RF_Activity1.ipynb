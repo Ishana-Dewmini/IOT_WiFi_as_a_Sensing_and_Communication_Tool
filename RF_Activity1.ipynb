{
 "cells": [
  {
   "cell_type": "markdown",
   "metadata": {},
   "source": [
    "** Activity 1- SVM Classifier and Data Visualization **"
   ]
  },
  {
   "cell_type": "markdown",
   "metadata": {},
   "source": [
    "1.Follow the slides provided for the introduction to Data Analytics \n",
    "\n",
    "2.Prepare the programming environment to use the tools given in the slides\n",
    "\n",
    "        Install Python and libraries (pandas, matplotlib, sklearn, scipy)\n",
    "         Or \n",
    "        Install Anaconda ( https://docs.anaconda.com/anaconda/install/windows/ )  \n",
    "\n",
    "        You can either use a python script or an ipython notebook for this activity.\n"
   ]
  },
  {
   "cell_type": "code",
   "execution_count": 1,
   "metadata": {},
   "outputs": [],
   "source": [
    "#for scientific computing  \n",
    "import numpy as np\n",
    "\n",
    "#for data visualization\n",
    "import matplotlib.pyplot as plt\n",
    "\n",
    "from matplotlib import style\n",
    "style.use(\"ggplot\")\n",
    "\n",
    "#for data modeling\n",
    "from sklearn import svm\n",
    "from sklearn.ensemble import RandomForestClassifier\n",
    "from sklearn import datasets\n",
    "from sklearn import metrics"
   ]
  },
  {
   "cell_type": "code",
   "execution_count": 2,
   "metadata": {},
   "outputs": [
    {
     "data": {
      "image/png": "[encoded data removed]",
      "text/plain": [
       "<Figure size 640x480 with 1 Axes>"
      ]
     },
     "metadata": {},
     "output_type": "display_data"
    }
   ],
   "source": [
    "# two features x1 and x2\n",
    "x1 = [1, 5, 1.5, 8, 1, 9]\n",
    "x2 = [2, 8, 1.8, 8, 0.6, 11]\n",
    "\n",
    "\n",
    "#features will be visualized as axis on a graph\n",
    "plt.scatter(x1,x2)\n",
    "plt.show()\n"
   ]
  },
  {
   "cell_type": "code",
   "execution_count": 3,
   "metadata": {},
   "outputs": [],
   "source": [
    "#feature list being stored in a capital X variable\n",
    "#translate our above x1 and x2 coordinates into an array where x1 and x2 are the features\n",
    "\n",
    "X = np.array([[1,2],\n",
    "             [5,8],\n",
    "            [1.5,1.8],\n",
    "            [8,8],\n",
    "             [1,0.6],\n",
    "             [9,11]])\n"
   ]
  },
  {
   "cell_type": "code",
   "execution_count": 6,
   "metadata": {},
   "outputs": [
    {
     "data": {
      "image/png": "[encoded data removed]",
      "text/plain": [
       "<Figure size 640x480 with 1 Axes>"
      ]
     },
     "metadata": {},
     "output_type": "display_data"
    }
   ],
   "source": [
    "#In Supervised learning, the data points should be labled.\n",
    "#For our labels(targets),we're going to use 0 or 1 as we are going to look at classifying the data points into 2 classes\n",
    "y = [0,1,0,1,0,1]\n",
    "\n",
    "#define our classifier\n",
    "#C: a valuation of \"how badly\" you want to properly classify, or fit, everything. C is a hyper parameter that we have to  decide.\n",
    "clf = RandomForestClassifier(n_estimators=100)\n",
    "clf.fit(X, y)\n",
    "\n",
    "# Scatter Plot\n",
    "_, ax = plt.subplots()\n",
    "scatter = ax.scatter(X[:, 0], X[:, 1], c=y)\n",
    "#ax.set(xlabel=iris.feature_names[0], ylabel=iris.feature_names[1])\n",
    "#_ = ax.legend(scatter.legend_elements()[0], iris.target_names, loc=\"lower right\", title=\"Classes\")\n",
    "plt.show()\n",
    "\n",
    "#fit the data\n",
    "#clf.fit(X,y)\n",
    "\n",
    "\n",
    "#visualize the data\n",
    "#w = clf.coef_[0]\n",
    "\n",
    "#a = -w[0] / w[1]\n",
    "\n",
    "#xx = np.linspace(0,12)\n",
    "#yy = a * xx - clf.intercept_[0] / w[1]\n",
    "\n",
    "#h0 = plt.plot(xx, yy, 'k-', label=\"Linear Classifier\")\n",
    "\n",
    "#plt.scatter(X[:, 0], X[:, 1], c = y)\n",
    "#plt.legend()\n",
    "#plt.show()\n"
   ]
  },
  {
   "cell_type": "code",
   "execution_count": 7,
   "metadata": {},
   "outputs": [
    {
     "name": "stdout",
     "output_type": "stream",
     "text": [
      "Predicted label is 0 \n"
     ]
    }
   ],
   "source": [
    "#predict and test the new data\n",
    "z= np.array([0.58,0.76])\n",
    "data_to_predict = z.reshape(1, -1)\n",
    "predicted_label = clf.predict(data_to_predict)\n",
    "print('Predicted label is %d ' %predicted_label)\n"
   ]
  },
  {
   "cell_type": "code",
   "execution_count": 8,
   "metadata": {},
   "outputs": [
    {
     "ename": "NameError",
     "evalue": "name 'xx' is not defined",
     "output_type": "error",
     "traceback": [
      "\u001b[1;31m---------------------------------------------------------------------------\u001b[0m",
      "\u001b[1;31mNameError\u001b[0m                                 Traceback (most recent call last)",
      "\u001b[1;32mf:\\Sem5\\2-IOT(EN3251)\\Git_assignment2\\IOT_WiFi_as_a_Sensing_and_Communication_Tool\\RF_Activity1.ipynb Cell 8\u001b[0m line \u001b[0;36m3\n\u001b[0;32m      <a href='vscode-notebook-cell:/f%3A/Sem5/2-IOT%28EN3251%29/Git_assignment2/IOT_WiFi_as_a_Sensing_and_Communication_Tool/RF_Activity1.ipynb#X11sZmlsZQ%3D%3D?line=0'>1</a>\u001b[0m \u001b[39m#visualize the test data \u001b[39;00m\n\u001b[1;32m----> <a href='vscode-notebook-cell:/f%3A/Sem5/2-IOT%28EN3251%29/Git_assignment2/IOT_WiFi_as_a_Sensing_and_Communication_Tool/RF_Activity1.ipynb#X11sZmlsZQ%3D%3D?line=2'>3</a>\u001b[0m h0 \u001b[39m=\u001b[39m plt\u001b[39m.\u001b[39mplot(xx, yy, \u001b[39m'\u001b[39m\u001b[39mk-\u001b[39m\u001b[39m'\u001b[39m, label\u001b[39m=\u001b[39m\u001b[39m\"\u001b[39m\u001b[39mLinear Classifier\u001b[39m\u001b[39m\"\u001b[39m)\n\u001b[0;32m      <a href='vscode-notebook-cell:/f%3A/Sem5/2-IOT%28EN3251%29/Git_assignment2/IOT_WiFi_as_a_Sensing_and_Communication_Tool/RF_Activity1.ipynb#X11sZmlsZQ%3D%3D?line=3'>4</a>\u001b[0m plt\u001b[39m.\u001b[39mscatter(X[:, \u001b[39m0\u001b[39m], X[:, \u001b[39m1\u001b[39m], c \u001b[39m=\u001b[39m y)\n\u001b[0;32m      <a href='vscode-notebook-cell:/f%3A/Sem5/2-IOT%28EN3251%29/Git_assignment2/IOT_WiFi_as_a_Sensing_and_Communication_Tool/RF_Activity1.ipynb#X11sZmlsZQ%3D%3D?line=4'>5</a>\u001b[0m plt\u001b[39m.\u001b[39mscatter(z[\u001b[39m0\u001b[39m],z[\u001b[39m1\u001b[39m])\n",
      "\u001b[1;31mNameError\u001b[0m: name 'xx' is not defined"
     ]
    }
   ],
   "source": [
    "#visualize the test data \n",
    "\n",
    "h0 = plt.plot(xx, yy, 'k-', label=\"Linear Classifier\")\n",
    "plt.scatter(X[:, 0], X[:, 1], c = y)\n",
    "plt.scatter(z[0],z[1])\n",
    "plt.legend()\n",
    "plt.show()\n"
   ]
  },
  {
   "cell_type": "code",
   "execution_count": null,
   "metadata": {},
   "outputs": [],
   "source": []
  }
 ],
 "metadata": {
  "kernelspec": {
   "display_name": "Python 3",
   "language": "python",
   "name": "python3"
  },
  "language_info": {
   "codemirror_mode": {
    "name": "ipython",
    "version": 3
   },
   "file_extension": ".py",
   "mimetype": "text/x-python",
   "name": "python",
   "nbconvert_exporter": "python",
   "pygments_lexer": "ipython3",
   "version": "3.11.4"
  }
 },
 "nbformat": 4,
 "nbformat_minor": 2
}
