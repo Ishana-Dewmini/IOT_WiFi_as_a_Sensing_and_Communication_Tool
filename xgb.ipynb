{
 "cells": [
  {
   "cell_type": "code",
   "execution_count": 2,
   "metadata": {},
   "outputs": [],
   "source": [
    "import pandas as pd  \n",
    "import numpy as np  \n",
    "from sklearn.svm import SVC\n",
    "from sklearn.model_selection import train_test_split  \n",
    "from sklearn.metrics import classification_report, confusion_matrix \n",
    "from sklearn.metrics import accuracy_score\n",
    "import xgboost as xgb"
   ]
  },
  {
   "cell_type": "code",
   "execution_count": 3,
   "metadata": {},
   "outputs": [],
   "source": [
    "# 2. Importing the dataset\n",
    "#Download the dataset as a CSV file and store in the local directory. \n",
    "#To read data from CSV file, the simplest way is to use read_csv method of the pandas library. \n",
    "wifidata = pd.read_csv(\"wifi_data_train.csv\")"
   ]
  },
  {
   "cell_type": "code",
   "execution_count": 4,
   "metadata": {},
   "outputs": [
    {
     "name": "stdout",
     "output_type": "stream",
     "text": [
      "Dimensions of the data:\n",
      "(1860, 10)\n",
      "\n",
      "First few records:\n",
      "   UoM_Wireless1  UoM_Wireless6  UoM_Wireless11  eduroam1  eduroam6  \\\n",
      "0           -100            -72             -71      -100       -71   \n",
      "1           -100            -54             -90      -100       -53   \n",
      "2           -100            -83             -90      -100       -84   \n",
      "3           -100           -100            -100      -100      -100   \n",
      "4           -100            -75             -83      -100       -67   \n",
      "\n",
      "   eduroam11  Jungle Book10  PROLINK_H5004NK_8766E11  UNIC-wifi11  id  \n",
      "0        -75           -100                     -100         -100   5  \n",
      "1       -100            -84                      -63         -100   1  \n",
      "2        -88            -90                     -100         -100   2  \n",
      "3       -100           -100                     -100         -100   3  \n",
      "4       -100           -100                     -100         -100   7  \n"
     ]
    }
   ],
   "source": [
    "# 3. Exploratory Data Analysis\n",
    "#check the dimensions of the data and see first few records\n",
    "print(\"Dimensions of the data:\")\n",
    "print(wifidata.shape)\n",
    "print(\"\\nFirst few records:\")\n",
    "print(wifidata.head())"
   ]
  },
  {
   "cell_type": "code",
   "execution_count": 5,
   "metadata": {},
   "outputs": [],
   "source": [
    "# 4. Data Preprocessing\n",
    "# To divide the data into attributes and labels\n",
    "X = wifidata.drop('id', axis=1)  #contains attributes\n",
    "y = wifidata['id'] # contains coresponding labels\n",
    "\n",
    "#divide data into training and test sets \n",
    "X_train, X_test, y_train, y_test = train_test_split(X, y, test_size = 0.20)  "
   ]
  },
  {
   "cell_type": "code",
   "execution_count": 14,
   "metadata": {},
   "outputs": [],
   "source": [
    "from sklearn.preprocessing import LabelEncoder\n",
    "\n",
    "label_encoder = LabelEncoder()\n",
    "y_train_encoded = label_encoder.fit_transform(y_train)\n",
    "y_test_encoded = label_encoder.fit_transform(y_test)"
   ]
  },
  {
   "cell_type": "code",
   "execution_count": 8,
   "metadata": {},
   "outputs": [
    {
     "data": {
      "text/html": [
       "<style>#sk-container-id-1 {color: black;}#sk-container-id-1 pre{padding: 0;}#sk-container-id-1 div.sk-toggleable {background-color: white;}#sk-container-id-1 label.sk-toggleable__label {cursor: pointer;display: block;width: 100%;margin-bottom: 0;padding: 0.3em;box-sizing: border-box;text-align: center;}#sk-container-id-1 label.sk-toggleable__label-arrow:before {content: \"▸\";float: left;margin-right: 0.25em;color: #696969;}#sk-container-id-1 label.sk-toggleable__label-arrow:hover:before {color: black;}#sk-container-id-1 div.sk-estimator:hover label.sk-toggleable__label-arrow:before {color: black;}#sk-container-id-1 div.sk-toggleable__content {max-height: 0;max-width: 0;overflow: hidden;text-align: left;background-color: #f0f8ff;}#sk-container-id-1 div.sk-toggleable__content pre {margin: 0.2em;color: black;border-radius: 0.25em;background-color: #f0f8ff;}#sk-container-id-1 input.sk-toggleable__control:checked~div.sk-toggleable__content {max-height: 200px;max-width: 100%;overflow: auto;}#sk-container-id-1 input.sk-toggleable__control:checked~label.sk-toggleable__label-arrow:before {content: \"▾\";}#sk-container-id-1 div.sk-estimator input.sk-toggleable__control:checked~label.sk-toggleable__label {background-color: #d4ebff;}#sk-container-id-1 div.sk-label input.sk-toggleable__control:checked~label.sk-toggleable__label {background-color: #d4ebff;}#sk-container-id-1 input.sk-hidden--visually {border: 0;clip: rect(1px 1px 1px 1px);clip: rect(1px, 1px, 1px, 1px);height: 1px;margin: -1px;overflow: hidden;padding: 0;position: absolute;width: 1px;}#sk-container-id-1 div.sk-estimator {font-family: monospace;background-color: #f0f8ff;border: 1px dotted black;border-radius: 0.25em;box-sizing: border-box;margin-bottom: 0.5em;}#sk-container-id-1 div.sk-estimator:hover {background-color: #d4ebff;}#sk-container-id-1 div.sk-parallel-item::after {content: \"\";width: 100%;border-bottom: 1px solid gray;flex-grow: 1;}#sk-container-id-1 div.sk-label:hover label.sk-toggleable__label {background-color: #d4ebff;}#sk-container-id-1 div.sk-serial::before {content: \"\";position: absolute;border-left: 1px solid gray;box-sizing: border-box;top: 0;bottom: 0;left: 50%;z-index: 0;}#sk-container-id-1 div.sk-serial {display: flex;flex-direction: column;align-items: center;background-color: white;padding-right: 0.2em;padding-left: 0.2em;position: relative;}#sk-container-id-1 div.sk-item {position: relative;z-index: 1;}#sk-container-id-1 div.sk-parallel {display: flex;align-items: stretch;justify-content: center;background-color: white;position: relative;}#sk-container-id-1 div.sk-item::before, #sk-container-id-1 div.sk-parallel-item::before {content: \"\";position: absolute;border-left: 1px solid gray;box-sizing: border-box;top: 0;bottom: 0;left: 50%;z-index: -1;}#sk-container-id-1 div.sk-parallel-item {display: flex;flex-direction: column;z-index: 1;position: relative;background-color: white;}#sk-container-id-1 div.sk-parallel-item:first-child::after {align-self: flex-end;width: 50%;}#sk-container-id-1 div.sk-parallel-item:last-child::after {align-self: flex-start;width: 50%;}#sk-container-id-1 div.sk-parallel-item:only-child::after {width: 0;}#sk-container-id-1 div.sk-dashed-wrapped {border: 1px dashed gray;margin: 0 0.4em 0.5em 0.4em;box-sizing: border-box;padding-bottom: 0.4em;background-color: white;}#sk-container-id-1 div.sk-label label {font-family: monospace;font-weight: bold;display: inline-block;line-height: 1.2em;}#sk-container-id-1 div.sk-label-container {text-align: center;}#sk-container-id-1 div.sk-container {/* jupyter's `normalize.less` sets `[hidden] { display: none; }` but bootstrap.min.css set `[hidden] { display: none !important; }` so we also need the `!important` here to be able to override the default hidden behavior on the sphinx rendered scikit-learn.org. See: https://github.com/scikit-learn/scikit-learn/issues/21755 */display: inline-block !important;position: relative;}#sk-container-id-1 div.sk-text-repr-fallback {display: none;}</style><div id=\"sk-container-id-1\" class=\"sk-top-container\"><div class=\"sk-text-repr-fallback\"><pre>XGBClassifier(base_score=None, booster=None, callbacks=None,\n",
       "              colsample_bylevel=None, colsample_bynode=None,\n",
       "              colsample_bytree=None, device=None, early_stopping_rounds=None,\n",
       "              enable_categorical=False, eval_metric=None, feature_types=None,\n",
       "              gamma=None, grow_policy=None, importance_type=None,\n",
       "              interaction_constraints=None, learning_rate=0.1, max_bin=None,\n",
       "              max_cat_threshold=None, max_cat_to_onehot=None,\n",
       "              max_delta_step=None, max_depth=3, max_leaves=None,\n",
       "              min_child_weight=None, missing=nan, monotone_constraints=None,\n",
       "              multi_strategy=None, n_estimators=100, n_jobs=None,\n",
       "              num_parallel_tree=None, objective=&#x27;multi:softprob&#x27;, ...)</pre><b>In a Jupyter environment, please rerun this cell to show the HTML representation or trust the notebook. <br />On GitHub, the HTML representation is unable to render, please try loading this page with nbviewer.org.</b></div><div class=\"sk-container\" hidden><div class=\"sk-item\"><div class=\"sk-estimator sk-toggleable\"><input class=\"sk-toggleable__control sk-hidden--visually\" id=\"sk-estimator-id-1\" type=\"checkbox\" checked><label for=\"sk-estimator-id-1\" class=\"sk-toggleable__label sk-toggleable__label-arrow\">XGBClassifier</label><div class=\"sk-toggleable__content\"><pre>XGBClassifier(base_score=None, booster=None, callbacks=None,\n",
       "              colsample_bylevel=None, colsample_bynode=None,\n",
       "              colsample_bytree=None, device=None, early_stopping_rounds=None,\n",
       "              enable_categorical=False, eval_metric=None, feature_types=None,\n",
       "              gamma=None, grow_policy=None, importance_type=None,\n",
       "              interaction_constraints=None, learning_rate=0.1, max_bin=None,\n",
       "              max_cat_threshold=None, max_cat_to_onehot=None,\n",
       "              max_delta_step=None, max_depth=3, max_leaves=None,\n",
       "              min_child_weight=None, missing=nan, monotone_constraints=None,\n",
       "              multi_strategy=None, n_estimators=100, n_jobs=None,\n",
       "              num_parallel_tree=None, objective=&#x27;multi:softprob&#x27;, ...)</pre></div></div></div></div></div>"
      ],
      "text/plain": [
       "XGBClassifier(base_score=None, booster=None, callbacks=None,\n",
       "              colsample_bylevel=None, colsample_bynode=None,\n",
       "              colsample_bytree=None, device=None, early_stopping_rounds=None,\n",
       "              enable_categorical=False, eval_metric=None, feature_types=None,\n",
       "              gamma=None, grow_policy=None, importance_type=None,\n",
       "              interaction_constraints=None, learning_rate=0.1, max_bin=None,\n",
       "              max_cat_threshold=None, max_cat_to_onehot=None,\n",
       "              max_delta_step=None, max_depth=3, max_leaves=None,\n",
       "              min_child_weight=None, missing=nan, monotone_constraints=None,\n",
       "              multi_strategy=None, n_estimators=100, n_jobs=None,\n",
       "              num_parallel_tree=None, objective='multi:softprob', ...)"
      ]
     },
     "execution_count": 8,
     "metadata": {},
     "output_type": "execute_result"
    }
   ],
   "source": [
    "# Create the XGBoost classifier\n",
    "xgb_classifier = xgb.XGBClassifier(n_estimators=100, learning_rate=0.1, max_depth=3, random_state=0)  # Adjust hyperparameters as needed\n",
    "\n",
    "# Train the classifier on the training data\n",
    "xgb_classifier.fit(X_train, y_train_encoded)"
   ]
  },
  {
   "cell_type": "code",
   "execution_count": 10,
   "metadata": {},
   "outputs": [],
   "source": [
    "# 6. Making Predictions\n",
    "X_test\n",
    "y_pred = xgb_classifier.predict(X_test)\n"
   ]
  },
  {
   "cell_type": "code",
   "execution_count": 15,
   "metadata": {},
   "outputs": [
    {
     "name": "stdout",
     "output_type": "stream",
     "text": [
      "\n",
      "Confusion Matrix:\n",
      "[[52  0  0  0  0  0  0  0]\n",
      " [ 0 44  0  0  1  0  1  0]\n",
      " [ 0  0 47  0  0  0  0  0]\n",
      " [ 0  0  0 43  0  0  0  3]\n",
      " [ 0  1  1  0 32  0  3  0]\n",
      " [ 0  0  2  0  0 52  1  0]\n",
      " [ 0  6  0  0  2  1 52  0]\n",
      " [ 0  0  0  6  0  0  0 22]]\n",
      "\n",
      "Classification Report:\n",
      "              precision    recall  f1-score   support\n",
      "\n",
      "           0       1.00      1.00      1.00        52\n",
      "           1       0.86      0.96      0.91        46\n",
      "           2       0.94      1.00      0.97        47\n",
      "           3       0.88      0.93      0.91        46\n",
      "           4       0.91      0.86      0.89        37\n",
      "           5       0.98      0.95      0.96        55\n",
      "           6       0.91      0.85      0.88        61\n",
      "           7       0.88      0.79      0.83        28\n",
      "\n",
      "    accuracy                           0.92       372\n",
      "   macro avg       0.92      0.92      0.92       372\n",
      "weighted avg       0.93      0.92      0.92       372\n",
      "\n"
     ]
    }
   ],
   "source": [
    "# 7. Evaluating the Algorithm\n",
    "#Confusion matrix, precision, recall, and F1 measures are the most commonly used metrics for classification tasks.\n",
    "print(\"\\nConfusion Matrix:\")\n",
    "print(confusion_matrix(y_test_encoded,y_pred))\n",
    "print(\"\\nClassification Report:\")\n",
    "print(classification_report(y_test_encoded,y_pred)) "
   ]
  },
  {
   "cell_type": "code",
   "execution_count": 16,
   "metadata": {},
   "outputs": [
    {
     "name": "stdout",
     "output_type": "stream",
     "text": [
      "Accuracy: 92.47%\n"
     ]
    }
   ],
   "source": [
    "accuracy = accuracy_score(y_test_encoded,y_pred)\n",
    "print(\"Accuracy: {:.2f}%\".format(accuracy * 100))"
   ]
  },
  {
   "cell_type": "code",
   "execution_count": 18,
   "metadata": {},
   "outputs": [
    {
     "name": "stdout",
     "output_type": "stream",
     "text": [
      "\n",
      "Unknown Data Labels\n",
      "[6 7 1 2 5 0 3 4 4 7 1 5 2 0 4 6 3 5 1 0 7 2 4 6 3 5 1 0 4 2 7 6 2 1 3 0 4\n",
      " 2 1 3 5 0 1 4 3 6 2 5 3 0 1 4 6 3 2 5 0 1 4 1 2 2 3 5 0 1 4 6 5 2 0 3 1 4\n",
      " 6 5 0 2 4 1 6 3 5 0 2 4 1 6 3 0 5 4 2 1 5 5 0 3 4 2 1 1 5 0 4 1 1 3 2 5 0\n",
      " 4 1 1 2 3 5 0 6 1 2 5 4 3 0 4 6 1 2 5 0 4 3 6 6 5 2 0 4 6 1 3 5 0 2 6 4 5\n",
      " 5 3 0 4 2 6 6 2 0 3 6 6 2 5 1 0 4 6 2 3 1 5 0 4 6 2 5 1 3 0 4 6 2 5 1 3 0\n",
      " 4 6 5 2 1 0 3 6 4 5 1 2 0 4 6 3 5 1 2 0 4 5 3 1 2 0 4 5 1 4 0 2 3 5 6 0 2\n",
      " 3 5 4 1 6 4 0 2 3 5 1 6 4 0 2 5 1 3 6 4 0 2 5 6 1 4 0 3 5 2 1 4 0 7 3 5 2\n",
      " 1 0 4 7 2 3 2 4 1 6 6 6 0 5 7 6 4 2 1 0 5 6 6 3 7 0 1 2 3 5 4 6 0 1 2 7 5\n",
      " 3 4 6 0]\n"
     ]
    }
   ],
   "source": [
    "# 8. Predict the locations of Unknown Data\n",
    "\n",
    "# Read the unknown data from \"unknown_data.csv\". \n",
    "# Please make sure to have that file within the local directory or add the correct path to the file\n",
    "unknowndata= pd.read_csv(\"wifi_data_test1.csv\")\n",
    "unknowndata = unknowndata.drop(columns=['id'])\n",
    "unknown_pred = xgb_classifier.predict(unknowndata)\n",
    "print(\"\\nUnknown Data Labels\")\n",
    "print(unknown_pred)"
   ]
  },
  {
   "cell_type": "code",
   "execution_count": 33,
   "metadata": {},
   "outputs": [],
   "source": [
    "feature_values_for_single_data_point = [-100,-71,-75,-100,-100,-100,-100,-100,-100]"
   ]
  },
  {
   "cell_type": "code",
   "execution_count": 34,
   "metadata": {},
   "outputs": [
    {
     "name": "stdout",
     "output_type": "stream",
     "text": [
      "[5]\n"
     ]
    }
   ],
   "source": [
    "single_data_point_encoded = label_encoder.transform([1])#single_data_point_class_label])\n",
    "single_data_point_features = [feature_values_for_single_data_point]  # Replace with your actual feature values\n",
    "predicted_class = xgb_classifier.predict(single_data_point_features)\n",
    "print(predicted_class+1)"
   ]
  }
 ],
 "metadata": {
  "kernelspec": {
   "display_name": "Python 3",
   "language": "python",
   "name": "python3"
  },
  "language_info": {
   "codemirror_mode": {
    "name": "ipython",
    "version": 3
   },
   "file_extension": ".py",
   "mimetype": "text/x-python",
   "name": "python",
   "nbconvert_exporter": "python",
   "pygments_lexer": "ipython3",
   "version": "3.11.4"
  }
 },
 "nbformat": 4,
 "nbformat_minor": 2
}
